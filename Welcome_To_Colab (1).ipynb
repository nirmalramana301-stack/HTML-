{
  "cells": [
    {
      "cell_type": "markdown",
      "source": [
        "HTML BASICS\n",
        "\n",
        "Question 1 - explain the structure of an HTML page.withs its important to follow the structure?"
      ],
      "metadata": {
        "id": "JGMe4QIqmXAV"
      }
    },
    {
      "cell_type": "markdown",
      "source": [
        "--> the basic structure of an HTML page provides the fundamental framework for all web content.Adhering to this structure is essentialfor proper rendering,accessibility , and search engine optimization."
      ],
      "metadata": {
        "id": "EkBF5QlCn2rK"
      }
    },
    {
      "cell_type": "markdown",
      "source": [
        "BASICS STRUCTURE ELEMENTS:\n"
      ],
      "metadata": {
        "id": "6yminWV9pBU1"
      }
    },
    {
      "cell_type": "code",
      "source": [
        "\"\"\"\n",
        "<!DOCTYPE html>\n",
        "<html>\n",
        "<head>\n",
        "<body>\n",
        "\"\"\""
      ],
      "metadata": {
        "colab": {
          "base_uri": "https://localhost:8080/",
          "height": 35
        },
        "id": "y-vE7ebMmnK2",
        "outputId": "154bb264-572a-4c20-ee0f-fad6de84feb5"
      },
      "execution_count": 16,
      "outputs": [
        {
          "output_type": "execute_result",
          "data": {
            "text/plain": [
              "'\\n<!DOCTYPE html>\\n<html>\\n<head>\\n<body>\\n'"
            ],
            "application/vnd.google.colaboratory.intrinsic+json": {
              "type": "string"
            }
          },
          "metadata": {},
          "execution_count": 16
        }
      ]
    },
    {
      "cell_type": "markdown",
      "source": [
        "*Qusetion-2* you are building a small personal profile with HTML tag will you use to highlight your name as heading describe yourself in a paraggraph and emphasize akey skills"
      ],
      "metadata": {
        "id": "vYP63Be7qmJp"
      }
    },
    {
      "cell_type": "markdown",
      "source": [
        "ANSWER--2"
      ],
      "metadata": {
        "id": "C4V63bQAsBGn"
      }
    },
    {
      "cell_type": "code",
      "source": [
        "\"\"\"\n",
        "<!DOCTYPE html>\n",
        "<html>\n",
        "<head>\n",
        "    <meta charset=\"utf-8\">\n",
        "    <meta name=\"viewport\" content=\"width=device-width, initial-scale=1\">\n",
        "    <title>Personal Profile</title>\n",
        "</head>\n",
        "<body>\n",
        "<h1>Name: Nirmal Ramana</h1>\n",
        "<p>I am a passionate web devloperwith a keen in creating user-friendily and\n",
        "visually appealing web.I enjoy learing new technologies and applying them.</P>\n",
        "<p>my skill is <strong>Frontend devlopment</strong>, particularly with\n",
        "javascript framework.</p>\n",
        "\n",
        "</body>\n",
        "</html>\n",
        "\n",
        "\"\"\"\n",
        "\n"
      ],
      "metadata": {
        "colab": {
          "base_uri": "https://localhost:8080/",
          "height": 160
        },
        "id": "_azp3OTJsFS2",
        "outputId": "4c0899eb-f859-498e-c7a9-3a2a20990599"
      },
      "execution_count": 17,
      "outputs": [
        {
          "output_type": "execute_result",
          "data": {
            "text/plain": [
              "'\\n<!DOCTYPE html>\\n<html>\\n<head>\\n    <meta charset=\"utf-8\">\\n    <meta name=\"viewport\" content=\"width=device-width, initial-scale=1\">\\n    <title>Personal Profile</title>\\n</head>\\n<body>\\n<h1>Name: Nirmal Ramana</h1>\\n<p>I am a passionate web devloperwith a keen in creating user-friendily and \\nvisually appealing web.I enjoy learing new technologies and applying them.</P>\\n<p>my skill is <strong>Frontend devlopment</strong>, particularly with \\njavascript framework.</p>\\n  \\n</body>\\n</html>\\n\\n'"
            ],
            "application/vnd.google.colaboratory.intrinsic+json": {
              "type": "string"
            }
          },
          "metadata": {},
          "execution_count": 17
        }
      ]
    },
    {
      "cell_type": "markdown",
      "source": [
        "# Qusetion-3 Look at the code below. Can you find and fix the mistake?\n",
        "<!- This is an HTML comment\n",
        "--<h1>Welcome to my website</h1>--"
      ],
      "metadata": {
        "id": "VFYOFRnhvpAV"
      }
    },
    {
      "cell_type": "markdown",
      "source": [
        "HTML comments begin with <!- but must end with --> to properly enclose the commented-out section. In the provided code, the closing --> is missing, which means everything after <!- This is an HTML comment would be treated as part of the comment, including the <h1> tag.\n",
        "<h1>corrected code"
      ],
      "metadata": {
        "id": "Fd3LUYP7w3a8"
      }
    },
    {
      "cell_type": "code",
      "source": [
        "\"\"\"\n",
        "<!-- This is an HTML comment -->\n",
        "<h1>Welcome to my website</h1>\n",
        "\"\"\""
      ],
      "metadata": {
        "colab": {
          "base_uri": "https://localhost:8080/",
          "height": 35
        },
        "id": "z89TELRBx1nC",
        "outputId": "058170b5-ff1e-4939-9c5d-ec4288a8200b"
      },
      "execution_count": 18,
      "outputs": [
        {
          "output_type": "execute_result",
          "data": {
            "text/plain": [
              "'\\n<!-- This is an HTML comment -->\\n<h1>Welcome to my website</h1>\\n'"
            ],
            "application/vnd.google.colaboratory.intrinsic+json": {
              "type": "string"
            }
          },
          "metadata": {},
          "execution_count": 18
        }
      ]
    },
    {
      "cell_type": "markdown",
      "source": [
        "Question 4: You’re creating a form that asks the user to enter their name, select their\n",
        "country from a list, and click a button to submit. Write the HTML code for this."
      ],
      "metadata": {
        "id": "mBiD6vv2yXr2"
      }
    },
    {
      "cell_type": "code",
      "source": [
        "\"\"\"\n",
        "<!DOCTYPE html>\n",
        "<html>\n",
        "<head>\n",
        "    <title>User Information Form</title>\n",
        "</head>\n",
        "<body>\n",
        "    <form>\n",
        "        <label for=\"userName\">Name:</label><br>\n",
        "        <input type=\"text\" id=\"userName\" name=\"userName\" placeholder=\"Enter your name\"><br><br>\n",
        "\n",
        "        <label for=\"country\">Country:</label><br>\n",
        "        <select id=\"country\" name=\"country\">\n",
        "            <option value=\"\">--Select a country--</option>\n",
        "            <option value=\"usa\">United States</option>\n",
        "            <option value=\"canada\">Canada</option>\n",
        "            <option value=\"uk\">United Kingdom</option>\n",
        "            <option value=\"india\">India</option>\n",
        "        </select><br><br>\n",
        "\n",
        "        <input type=\"submit\" value=\"Submit\">\n",
        "    </form>\n",
        "</body>\n",
        "</html>\n",
        "\"\"\""
      ],
      "metadata": {
        "colab": {
          "base_uri": "https://localhost:8080/",
          "height": 196
        },
        "id": "-RkD1XWIy47L",
        "outputId": "b2017e50-2b0f-4c06-f179-14653556b473"
      },
      "execution_count": 19,
      "outputs": [
        {
          "output_type": "execute_result",
          "data": {
            "text/plain": [
              "'\\n<!DOCTYPE html>\\n<html>\\n<head>\\n    <title>User Information Form</title>\\n</head>\\n<body>\\n    <form>\\n        <label for=\"userName\">Name:</label><br>\\n        <input type=\"text\" id=\"userName\" name=\"userName\" placeholder=\"Enter your name\"><br><br>\\n\\n        <label for=\"country\">Country:</label><br>\\n        <select id=\"country\" name=\"country\">\\n            <option value=\"\">--Select a country--</option>\\n            <option value=\"usa\">United States</option>\\n            <option value=\"canada\">Canada</option>\\n            <option value=\"uk\">United Kingdom</option>\\n            <option value=\"india\">India</option>\\n        </select><br><br>\\n\\n        <input type=\"submit\" value=\"Submit\">\\n    </form>\\n</body>\\n</html>\\n'"
            ],
            "application/vnd.google.colaboratory.intrinsic+json": {
              "type": "string"
            }
          },
          "metadata": {},
          "execution_count": 19
        }
      ]
    },
    {
      "cell_type": "markdown",
      "metadata": {
        "id": "62baee22"
      },
      "source": [
        "<!DOCTYPE html>\n",
        "<html lang=\"en\">\n",
        "</html>"
      ]
    },
    {
      "cell_type": "markdown",
      "source": [
        "Question 5: Write short HTML code to show your favorite fruits in a bulleted list and\n",
        "your top 3 programming languages in a numbered list.\n",
        "\n",
        "\n"
      ],
      "metadata": {
        "id": "WEsi3rqgzO4z"
      }
    },
    {
      "cell_type": "code",
      "source": [
        "\"\"\"\n",
        "<!DOCTYPE html>\n",
        "<html>\n",
        "<head>\n",
        "    <title>My Favorite Things</title>\n",
        "</head>\n",
        "<body>\n",
        "\n",
        "    <h1>My Favorite Fruits</h1>\n",
        "    <ul>\n",
        "        <li>Apple</li>\n",
        "        <li>Banana</li>\n",
        "        <li>Strawberry</li>\n",
        "    </ul>\n",
        "\n",
        "    <h1>My Top 3 Programming Languages</h1>\n",
        "    <ol>\n",
        "        <li>Python</li>\n",
        "        <li>JavaScript</li>\n",
        "        <li>Java</li>\n",
        "    </ol>\n",
        "\n",
        "</body>\n",
        "</html><!DOCTYPE html>\n",
        "<html>\n",
        "<head>\n",
        "    <title>My Favorite Things</title>\n",
        "</head>\n",
        "<body>\n",
        "\n",
        "    <h1>My Favorite Fruits</h1>\n",
        "    <ul>\n",
        "        <li>Apple</li>\n",
        "        <li>Banana</li>\n",
        "        <li>Strawberry</li>\n",
        "    </ul>\n",
        "\n",
        "    <h1>My Top 3 Programming Languages</h1>\n",
        "    <ol>\n",
        "        <li>Python</li>\n",
        "        <li>JavaScript</li>\n",
        "        <li>Java</li>\n",
        "    </ol>\n",
        "\n",
        "</body>\n",
        "</html>\n",
        "\"\"\""
      ],
      "metadata": {
        "colab": {
          "base_uri": "https://localhost:8080/",
          "height": 214
        },
        "id": "liUI3Z8wzzLw",
        "outputId": "d316dcac-979e-4067-db11-e43c96f5a154"
      },
      "execution_count": 20,
      "outputs": [
        {
          "output_type": "execute_result",
          "data": {
            "text/plain": [
              "'\\n<!DOCTYPE html>\\n<html>\\n<head>\\n    <title>My Favorite Things</title>\\n</head>\\n<body>\\n\\n    <h1>My Favorite Fruits</h1>\\n    <ul>\\n        <li>Apple</li>\\n        <li>Banana</li>\\n        <li>Strawberry</li>\\n    </ul>\\n\\n    <h1>My Top 3 Programming Languages</h1>\\n    <ol>\\n        <li>Python</li>\\n        <li>JavaScript</li>\\n        <li>Java</li>\\n    </ol>\\n\\n</body>\\n</html><!DOCTYPE html>\\n<html>\\n<head>\\n    <title>My Favorite Things</title>\\n</head>\\n<body>\\n\\n    <h1>My Favorite Fruits</h1>\\n    <ul>\\n        <li>Apple</li>\\n        <li>Banana</li>\\n        <li>Strawberry</li>\\n    </ul>\\n\\n    <h1>My Top 3 Programming Languages</h1>\\n    <ol>\\n        <li>Python</li>\\n        <li>JavaScript</li>\\n        <li>Java</li>\\n    </ol>\\n\\n</body>\\n</html>\\n'"
            ],
            "application/vnd.google.colaboratory.intrinsic+json": {
              "type": "string"
            }
          },
          "metadata": {},
          "execution_count": 20
        }
      ]
    },
    {
      "cell_type": "markdown",
      "source": [
        "Question 6: Ravi wants to leave a note in his HTML file so that only other developers\n",
        "can see it, not the users on the website. How should he do this? Why are such notes\n",
        "useful?"
      ],
      "metadata": {
        "id": "dZHysGmvz88n"
      }
    },
    {
      "cell_type": "markdown",
      "source": [
        "answer-6 Any text placed between <!-- and --> will be ignored by the browser and will not be displayed to users viewing the website.\n",
        "Why such notes are useful:\n",
        "HTML comments are useful for several reasons:\n",
        "Code Documentation: They allow developers to add explanations, descriptions, or notes about specific parts of the code, making it easier for others (or their future selves) to understand the purpose and functionality of different sections.\n",
        "Debugging: Comments can be used to temporarily disable sections of code during debugging, without permanently deleting them.\n",
        "Collaboration: In collaborative projects, comments facilitate communication between developers, providing context and instructions for maintaining or modifying the code.\n",
        "Reminders: Developers can use comments to leave reminders about tasks to be completed, improvements to be made, or potential issues to address."
      ],
      "metadata": {
        "id": "PDuQS5-P0idA"
      }
    },
    {
      "cell_type": "markdown",
      "source": [
        "Question 7: Here’s a form snippet. Can you spot the error and rewrite the correct\n",
        "version?"
      ],
      "metadata": {
        "id": "j067hA610vcv"
      }
    },
    {
      "cell_type": "markdown",
      "source": [
        "The error in the provided HTML form snippet is in the closing tag for the button element.\n",
        "The incorrect tag is: <buton>\n",
        "The correct tag should be: </button>\n",
        "Here's the corrected version of the form snippet"
      ],
      "metadata": {
        "id": "ez_FjUK91Xrw"
      }
    },
    {
      "cell_type": "code",
      "source": [
        "\"\"\"\n",
        "<form>\n",
        "  <input name=\"email\">\n",
        "  <select>\n",
        "    <option>India</option>\n",
        "  </select>\n",
        "  <button>Send</button>\n",
        "</form>\n",
        "\"\"\""
      ],
      "metadata": {
        "colab": {
          "base_uri": "https://localhost:8080/",
          "height": 53
        },
        "id": "MnUEAj-Z1h-m",
        "outputId": "11209f8a-6aa1-4d13-d9fb-bfa450a83331"
      },
      "execution_count": 21,
      "outputs": [
        {
          "output_type": "execute_result",
          "data": {
            "text/plain": [
              "'\\n<form>\\n  <input name=\"email\">\\n  <select>\\n    <option>India</option>\\n  </select>\\n  <button>Send</button>\\n</form> \\n'"
            ],
            "application/vnd.google.colaboratory.intrinsic+json": {
              "type": "string"
            }
          },
          "metadata": {},
          "execution_count": 21
        }
      ]
    }
  ],
  "metadata": {
    "colab": {
      "name": "Welcome To Colab",
      "provenance": []
    },
    "kernelspec": {
      "display_name": "Python 3",
      "name": "python3"
    }
  },
  "nbformat": 4,
  "nbformat_minor": 0
}